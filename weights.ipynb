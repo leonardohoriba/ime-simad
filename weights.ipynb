{
 "cells": [
  {
   "cell_type": "code",
   "execution_count": 66,
   "metadata": {},
   "outputs": [],
   "source": [
    "import pandas as pd"
   ]
  },
  {
   "cell_type": "code",
   "execution_count": 67,
   "metadata": {},
   "outputs": [],
   "source": [
    "weights_df = pd.read_csv(\"utils\\\\ibov_weights.csv\", sep=';', encoding='utf-8')\n",
    "weights_df['adjHolding'] = weights_df['adjHolding'].str.replace(',', '').astype(float)\n",
    "weights_df['adjMarketValue'] = weights_df['adjMarketValue'].str.replace(',', '').astype(float)\n",
    "weights_df = weights_df.sort_values('weightClose', ascending=False).reset_index(drop=True).copy()"
   ]
  },
  {
   "cell_type": "code",
   "execution_count": 68,
   "metadata": {},
   "outputs": [
    {
     "name": "stdout",
     "output_type": "stream",
     "text": [
      "(85, 7)\n"
     ]
    },
    {
     "data": {
      "text/html": [
       "<div>\n",
       "<style scoped>\n",
       "    .dataframe tbody tr th:only-of-type {\n",
       "        vertical-align: middle;\n",
       "    }\n",
       "\n",
       "    .dataframe tbody tr th {\n",
       "        vertical-align: top;\n",
       "    }\n",
       "\n",
       "    .dataframe thead th {\n",
       "        text-align: right;\n",
       "    }\n",
       "</style>\n",
       "<table border=\"1\" class=\"dataframe\">\n",
       "  <thead>\n",
       "    <tr style=\"text-align: right;\">\n",
       "      <th></th>\n",
       "      <th>ticker</th>\n",
       "      <th>gics_sector_name</th>\n",
       "      <th>description</th>\n",
       "      <th>adjHolding</th>\n",
       "      <th>adjMarketValue</th>\n",
       "      <th>weightClose</th>\n",
       "      <th>date</th>\n",
       "    </tr>\n",
       "  </thead>\n",
       "  <tbody>\n",
       "    <tr>\n",
       "      <th>0</th>\n",
       "      <td>VALE3 BS Equity</td>\n",
       "      <td>Materials</td>\n",
       "      <td>Vale SA</td>\n",
       "      <td>23823968.0</td>\n",
       "      <td>3.131649e+08</td>\n",
       "      <td>12.536892</td>\n",
       "      <td>2023-08-31</td>\n",
       "    </tr>\n",
       "    <tr>\n",
       "      <th>1</th>\n",
       "      <td>PETR4 BS Equity</td>\n",
       "      <td>Energy</td>\n",
       "      <td>Petroleo Brasileiro SA</td>\n",
       "      <td>26961678.0</td>\n",
       "      <td>1.739376e+08</td>\n",
       "      <td>6.963224</td>\n",
       "      <td>2023-08-31</td>\n",
       "    </tr>\n",
       "    <tr>\n",
       "      <th>2</th>\n",
       "      <td>ITUB4 BS Equity</td>\n",
       "      <td>Financials</td>\n",
       "      <td>Itau Unibanco Holding SA</td>\n",
       "      <td>28349797.0</td>\n",
       "      <td>1.570678e+08</td>\n",
       "      <td>6.287877</td>\n",
       "      <td>2023-08-31</td>\n",
       "    </tr>\n",
       "    <tr>\n",
       "      <th>3</th>\n",
       "      <td>PETR3 BS Equity</td>\n",
       "      <td>Energy</td>\n",
       "      <td>Petroleo Brasileiro SA</td>\n",
       "      <td>17653651.0</td>\n",
       "      <td>1.231596e+08</td>\n",
       "      <td>4.930435</td>\n",
       "      <td>2023-08-31</td>\n",
       "    </tr>\n",
       "    <tr>\n",
       "      <th>4</th>\n",
       "      <td>BBDC4 BS Equity</td>\n",
       "      <td>Financials</td>\n",
       "      <td>Banco Bradesco SA</td>\n",
       "      <td>30380826.0</td>\n",
       "      <td>9.173855e+07</td>\n",
       "      <td>3.672559</td>\n",
       "      <td>2023-08-31</td>\n",
       "    </tr>\n",
       "  </tbody>\n",
       "</table>\n",
       "</div>"
      ],
      "text/plain": [
       "            ticker gics_sector_name               description  adjHolding  \\\n",
       "0  VALE3 BS Equity        Materials                   Vale SA  23823968.0   \n",
       "1  PETR4 BS Equity           Energy    Petroleo Brasileiro SA  26961678.0   \n",
       "2  ITUB4 BS Equity       Financials  Itau Unibanco Holding SA  28349797.0   \n",
       "3  PETR3 BS Equity           Energy    Petroleo Brasileiro SA  17653651.0   \n",
       "4  BBDC4 BS Equity       Financials         Banco Bradesco SA  30380826.0   \n",
       "\n",
       "   adjMarketValue  weightClose        date  \n",
       "0    3.131649e+08    12.536892  2023-08-31  \n",
       "1    1.739376e+08     6.963224  2023-08-31  \n",
       "2    1.570678e+08     6.287877  2023-08-31  \n",
       "3    1.231596e+08     4.930435  2023-08-31  \n",
       "4    9.173855e+07     3.672559  2023-08-31  "
      ]
     },
     "execution_count": 68,
     "metadata": {},
     "output_type": "execute_result"
    }
   ],
   "source": [
    "print(weights_df.shape)\n",
    "weights_df.head()"
   ]
  },
  {
   "cell_type": "code",
   "execution_count": 69,
   "metadata": {},
   "outputs": [],
   "source": [
    "# Top n weights\n",
    "top_5_weight_df = weights_df.head(5).copy()\n",
    "top_10_weight_df = weights_df.head(10).copy()\n",
    "top_20_weight_df = weights_df.head(20).copy()\n",
    "top_30_weight_df = weights_df.head(30).copy()"
   ]
  },
  {
   "cell_type": "code",
   "execution_count": 70,
   "metadata": {},
   "outputs": [],
   "source": [
    "# Compute relative weight\n",
    "top_5_weight_df['weight'] = top_5_weight_df['weightClose'].apply(lambda row: row/top_5_weight_df['weightClose'].sum()*100)\n",
    "top_10_weight_df['weight'] = top_10_weight_df['weightClose'].apply(lambda row: row/top_10_weight_df['weightClose'].sum()*100)\n",
    "top_20_weight_df['weight'] = top_20_weight_df['weightClose'].apply(lambda row: row/top_20_weight_df['weightClose'].sum()*100)\n",
    "top_30_weight_df['weight'] = top_30_weight_df['weightClose'].apply(lambda row: row/top_30_weight_df['weightClose'].sum()*100)\n",
    "\n",
    "# Clean columns\n",
    "top_5_weight_df = top_5_weight_df.drop(columns=['adjHolding', 'adjMarketValue', 'weightClose'])\n",
    "top_10_weight_df = top_10_weight_df.drop(columns=['adjHolding', 'adjMarketValue', 'weightClose'])\n",
    "top_20_weight_df = top_20_weight_df.drop(columns=['adjHolding', 'adjMarketValue', 'weightClose'])\n",
    "top_30_weight_df = top_30_weight_df.drop(columns=['adjHolding', 'adjMarketValue', 'weightClose'])"
   ]
  },
  {
   "cell_type": "code",
   "execution_count": 71,
   "metadata": {},
   "outputs": [
    {
     "data": {
      "text/html": [
       "<div>\n",
       "<style scoped>\n",
       "    .dataframe tbody tr th:only-of-type {\n",
       "        vertical-align: middle;\n",
       "    }\n",
       "\n",
       "    .dataframe tbody tr th {\n",
       "        vertical-align: top;\n",
       "    }\n",
       "\n",
       "    .dataframe thead th {\n",
       "        text-align: right;\n",
       "    }\n",
       "</style>\n",
       "<table border=\"1\" class=\"dataframe\">\n",
       "  <thead>\n",
       "    <tr style=\"text-align: right;\">\n",
       "      <th></th>\n",
       "      <th>ticker</th>\n",
       "      <th>gics_sector_name</th>\n",
       "      <th>description</th>\n",
       "      <th>date</th>\n",
       "      <th>weight</th>\n",
       "    </tr>\n",
       "  </thead>\n",
       "  <tbody>\n",
       "    <tr>\n",
       "      <th>0</th>\n",
       "      <td>VALE3 BS Equity</td>\n",
       "      <td>Materials</td>\n",
       "      <td>Vale SA</td>\n",
       "      <td>2023-08-31</td>\n",
       "      <td>36.454006</td>\n",
       "    </tr>\n",
       "    <tr>\n",
       "      <th>1</th>\n",
       "      <td>PETR4 BS Equity</td>\n",
       "      <td>Energy</td>\n",
       "      <td>Petroleo Brasileiro SA</td>\n",
       "      <td>2023-08-31</td>\n",
       "      <td>20.247234</td>\n",
       "    </tr>\n",
       "    <tr>\n",
       "      <th>2</th>\n",
       "      <td>ITUB4 BS Equity</td>\n",
       "      <td>Financials</td>\n",
       "      <td>Itau Unibanco Holding SA</td>\n",
       "      <td>2023-08-31</td>\n",
       "      <td>18.283502</td>\n",
       "    </tr>\n",
       "    <tr>\n",
       "      <th>3</th>\n",
       "      <td>PETR3 BS Equity</td>\n",
       "      <td>Energy</td>\n",
       "      <td>Petroleo Brasileiro SA</td>\n",
       "      <td>2023-08-31</td>\n",
       "      <td>14.336417</td>\n",
       "    </tr>\n",
       "    <tr>\n",
       "      <th>4</th>\n",
       "      <td>BBDC4 BS Equity</td>\n",
       "      <td>Financials</td>\n",
       "      <td>Banco Bradesco SA</td>\n",
       "      <td>2023-08-31</td>\n",
       "      <td>10.678840</td>\n",
       "    </tr>\n",
       "  </tbody>\n",
       "</table>\n",
       "</div>"
      ],
      "text/plain": [
       "            ticker gics_sector_name               description        date  \\\n",
       "0  VALE3 BS Equity        Materials                   Vale SA  2023-08-31   \n",
       "1  PETR4 BS Equity           Energy    Petroleo Brasileiro SA  2023-08-31   \n",
       "2  ITUB4 BS Equity       Financials  Itau Unibanco Holding SA  2023-08-31   \n",
       "3  PETR3 BS Equity           Energy    Petroleo Brasileiro SA  2023-08-31   \n",
       "4  BBDC4 BS Equity       Financials         Banco Bradesco SA  2023-08-31   \n",
       "\n",
       "      weight  \n",
       "0  36.454006  \n",
       "1  20.247234  \n",
       "2  18.283502  \n",
       "3  14.336417  \n",
       "4  10.678840  "
      ]
     },
     "execution_count": 71,
     "metadata": {},
     "output_type": "execute_result"
    }
   ],
   "source": [
    "# Example\n",
    "top_5_weight_df"
   ]
  }
 ],
 "metadata": {
  "kernelspec": {
   "display_name": "venv",
   "language": "python",
   "name": "python3"
  },
  "language_info": {
   "codemirror_mode": {
    "name": "ipython",
    "version": 3
   },
   "file_extension": ".py",
   "mimetype": "text/x-python",
   "name": "python",
   "nbconvert_exporter": "python",
   "pygments_lexer": "ipython3",
   "version": "3.9.0"
  },
  "orig_nbformat": 4
 },
 "nbformat": 4,
 "nbformat_minor": 2
}
